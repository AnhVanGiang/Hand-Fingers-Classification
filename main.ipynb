{
 "cells": [
  {
   "cell_type": "code",
   "execution_count": 151,
   "id": "172863fa-f6b4-4efb-8ce0-900bde796e2a",
   "metadata": {},
   "outputs": [],
   "source": [
    "import torch\n",
    "import torch.nn as nn\n",
    "import matplotlib.pyplot as plt\n",
    "from torch.utils.data import Dataset, DataLoader\n",
    "import cv2\n",
    "from tqdm.notebook import tqdm\n",
    "import numpy as np\n",
    "from torchvision import datasets\n",
    "from torch.optim import Adam, SGD\n",
    "from torchsummary import summary\n",
    "\n",
    "%matplotlib inline"
   ]
  },
  {
   "cell_type": "code",
   "execution_count": 134,
   "id": "40ddccea-3042-43bb-b39a-6da3af408bb8",
   "metadata": {},
   "outputs": [],
   "source": [
    "device = \"cude\" if torch.cuda.is_available() else \"cpu\""
   ]
  },
  {
   "cell_type": "code",
   "execution_count": 135,
   "id": "874db8b7-9394-449e-8f11-da3247725518",
   "metadata": {},
   "outputs": [],
   "source": [
    "data_folder = './FMNIST' # This can be any directory you\n",
    "fmnist = datasets.FashionMNIST(data_folder, download=True, \\\n",
    "train=True)"
   ]
  },
  {
   "cell_type": "code",
   "execution_count": 136,
   "id": "f66415d0-ef07-436b-97b0-121de5810f7b",
   "metadata": {},
   "outputs": [],
   "source": [
    "tr_images = fmnist.data.to(device)\n",
    "tr_targets = fmnist.targets.to(device)"
   ]
  },
  {
   "cell_type": "code",
   "execution_count": 137,
   "id": "3075ad47-1b50-4e8e-9024-533a5dfc2494",
   "metadata": {},
   "outputs": [],
   "source": [
    "class FMNISTDataset(Dataset):\n",
    "    def __init__(self, x, y):\n",
    "        x = x.float()\n",
    "        x = x.view(-1, 28*28)\n",
    "        self.x, self.y = x, y\n",
    "    def __getitem__(self, ix):\n",
    "        x, y = self.x[ix], self.y[ix]\n",
    "        return x.to(device), y.to(device)\n",
    "    def __len__(self):\n",
    "        return len(self.x)"
   ]
  },
  {
   "cell_type": "code",
   "execution_count": 138,
   "id": "537c8347-ae70-455e-8368-e61e7d7cd462",
   "metadata": {},
   "outputs": [],
   "source": [
    "def get_data():\n",
    "    train = FMNISTDataset(tr_images, tr_targets)\n",
    "    trn_dl = DataLoader(train, batch_size=32, shuffle=True)\n",
    "    return trn_dl"
   ]
  },
  {
   "cell_type": "code",
   "execution_count": 153,
   "id": "9d29c9e1-e4ef-4f73-9d71-04ab22736af7",
   "metadata": {},
   "outputs": [],
   "source": [
    "def get_model():\n",
    "    model = nn.Sequential(\n",
    "        nn.Linear(28 * 28, 1000),\n",
    "        nn.ReLU(),\n",
    "        nn.Linear(1000, 10)\n",
    "    ).to(device)\n",
    "    \n",
    "    loss_fn = nn.CrossEntropyLoss()\n",
    "    optimizer = SGD(model.parameters(), lr = 0.0001)\n",
    "    return model, loss_fn, optimizer"
   ]
  },
  {
   "cell_type": "code",
   "execution_count": 154,
   "id": "51e3de02-fbb1-4730-a8e8-8b634bc30fed",
   "metadata": {},
   "outputs": [],
   "source": [
    "def train_batch(x, y, model, opt, loss_fn):\n",
    "    model.train()\n",
    "    prediction = model(x)\n",
    "    batch_loss = loss_fn(prediction, y)\n",
    "    batch_loss.backward()\n",
    "    opt.step()\n",
    "    opt.zero_grad()\n",
    "    return batch_loss.item()"
   ]
  },
  {
   "cell_type": "code",
   "execution_count": 155,
   "id": "5f5f6ae5-f4eb-404b-92b1-7b516cacd08e",
   "metadata": {},
   "outputs": [],
   "source": [
    "@torch.no_grad()\n",
    "def accuracy(x, y, model):\n",
    "    model.eval() \n",
    "    prediction = model(x)\n",
    "    max_values, argmaxes = prediction.max(-1)\n",
    "    is_correct = argmaxes == y\n",
    "    return is_correct.cpu().numpy().tolist()"
   ]
  },
  {
   "cell_type": "code",
   "execution_count": 156,
   "id": "1049c5ac-e3f6-4e2e-9beb-55d9d068f021",
   "metadata": {},
   "outputs": [],
   "source": [
    "trn_dl = get_data()"
   ]
  },
  {
   "cell_type": "code",
   "execution_count": 157,
   "id": "5d2f8524-3bfa-45f9-b0f2-c49da93e34ed",
   "metadata": {},
   "outputs": [],
   "source": [
    "model, loss_fn, opt = get_model()"
   ]
  },
  {
   "cell_type": "code",
   "execution_count": 158,
   "id": "162e9b26-c000-453a-9735-90caab526784",
   "metadata": {},
   "outputs": [],
   "source": [
    "losses, acc = [], []"
   ]
  },
  {
   "cell_type": "code",
   "execution_count": 159,
   "id": "6d8ce0fd-93e9-41c4-ac0e-7da88a9e428f",
   "metadata": {},
   "outputs": [],
   "source": [
    "ep_loss, ep_acc = [], []"
   ]
  },
  {
   "cell_type": "code",
   "execution_count": 160,
   "id": "ae652164-292a-45a4-8f0a-ca0b9230957b",
   "metadata": {},
   "outputs": [],
   "source": [
    "n = 20"
   ]
  },
  {
   "cell_type": "code",
   "execution_count": 161,
   "id": "436938fd-24dd-4817-9483-6e0d6fe65851",
   "metadata": {},
   "outputs": [
    {
     "data": {
      "application/vnd.jupyter.widget-view+json": {
       "model_id": "217fe317f82f4d138e53a2a15d86c7dd",
       "version_major": 2,
       "version_minor": 0
      },
      "text/plain": [
       "  0%|          | 0/20 [00:00<?, ?it/s]"
      ]
     },
     "metadata": {},
     "output_type": "display_data"
    }
   ],
   "source": [
    "for ep in tqdm(range(n)): \n",
    "    for ix, batch in enumerate(iter(trn_dl)):\n",
    "        x, y = batch\n",
    "        batch_loss = train_batch(x, y, model, opt, loss_fn)\n",
    "        ep_loss.append(batch_loss)\n",
    "    \n",
    "    ep_l = np.array(ep_loss).mean()\n",
    "    \n",
    "    for ix, batch in enumerate(iter(trn_dl)):\n",
    "        x, y = batch\n",
    "        is_correct = accuracy(x, y, model)\n",
    "        \n",
    "        ep_acc.extend(is_correct)\n",
    "    ep_a = np.mean(ep_acc)\n",
    "    \n",
    "    losses.append(ep_l)\n",
    "    acc.append(ep_a)"
   ]
  },
  {
   "cell_type": "code",
   "execution_count": 162,
   "id": "518a031f-f43d-47b8-a0bf-6d03d39d2bcb",
   "metadata": {},
   "outputs": [
    {
     "name": "stderr",
     "output_type": "stream",
     "text": [
      "/tmp/ipykernel_55511/2405228302.py:10: UserWarning: FixedFormatter should only be used together with FixedLocator\n",
      "  plt.gca().set_yticklabels(['{:.0f}%'.format(x*100) \\\n"
     ]
    },
    {
     "data": {
      "text/plain": [
       "<matplotlib.legend.Legend at 0x7fa39dfb84f0>"
      ]
     },
     "execution_count": 162,
     "metadata": {},
     "output_type": "execute_result"
    },
    {
     "data": {
      "image/png": "[encoded data removed]",
      "text/plain": [
       "<Figure size 1440x360 with 2 Axes>"
      ]
     },
     "metadata": {
      "needs_background": "light"
     },
     "output_type": "display_data"
    }
   ],
   "source": [
    "epochs = np.arange(n)+1\n",
    "plt.figure(figsize=(20,5))\n",
    "plt.subplot(121)\n",
    "plt.title('Loss value over increasing epochs')\n",
    "plt.plot(epochs, losses, label='Training Loss')\n",
    "plt.legend()\n",
    "plt.subplot(122)\n",
    "plt.title('Accuracy value over increasing epochs')\n",
    "plt.plot(epochs, acc, label='Training Accuracy')\n",
    "plt.gca().set_yticklabels(['{:.0f}%'.format(x*100) \\\n",
    "for x in plt.gca().get_yticks()])\n",
    "plt.legend()"
   ]
  },
  {
   "cell_type": "code",
   "execution_count": null,
   "id": "8de77e6c-c912-4853-a0b7-5e8a5ddd9dd0",
   "metadata": {},
   "outputs": [],
   "source": []
  }
 ],
 "metadata": {
  "kernelspec": {
   "display_name": "Python 3 (ipykernel)",
   "language": "python",
   "name": "python3"
  },
  "language_info": {
   "codemirror_mode": {
    "name": "ipython",
    "version": 3
   },
   "file_extension": ".py",
   "mimetype": "text/x-python",
   "name": "python",
   "nbconvert_exporter": "python",
   "pygments_lexer": "ipython3",
   "version": "3.9.7"
  }
 },
 "nbformat": 4,
 "nbformat_minor": 5
}
