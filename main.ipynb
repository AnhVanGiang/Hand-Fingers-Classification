{
 "cells": [
  {
   "cell_type": "code",
   "execution_count": 202,
   "id": "172863fa-f6b4-4efb-8ce0-900bde796e2a",
   "metadata": {},
   "outputs": [],
   "source": [
    "import torch\n",
    "import torch.nn as nn\n",
    "import matplotlib.pyplot as plt\n",
    "from torch.utils.data import Dataset, DataLoader\n",
    "import cv2\n",
    "from tqdm.notebook import tqdm\n",
    "import numpy as np\n",
    "from torchvision import datasets\n",
    "from torch.optim import Adam, SGD\n",
    "import h5py\n",
    "\n",
    "%matplotlib inline"
   ]
  },
  {
   "cell_type": "code",
   "execution_count": 203,
   "id": "40ddccea-3042-43bb-b39a-6da3af408bb8",
   "metadata": {},
   "outputs": [],
   "source": [
    "device = torch.device('cuda' if torch.cuda.is_available() else 'cpu')"
   ]
  },
  {
   "cell_type": "code",
   "execution_count": 204,
   "id": "6968be48-4e4a-4007-bb6e-5f930939d8b3",
   "metadata": {},
   "outputs": [],
   "source": [
    "train = h5py.File(\"Signs_Data_Training.h5\", \"r\")"
   ]
  },
  {
   "cell_type": "code",
   "execution_count": 219,
   "id": "8bde5b88-eae2-4171-a311-944bc6044074",
   "metadata": {},
   "outputs": [
    {
     "data": {
      "text/plain": [
       "5"
      ]
     },
     "execution_count": 219,
     "metadata": {},
     "output_type": "execute_result"
    }
   ],
   "source": [
    "train[\"train_set_y\"]"
   ]
  },
  {
   "cell_type": "code",
   "execution_count": null,
   "id": "69757970-e862-4c96-a473-1b5cb6247e9c",
   "metadata": {},
   "outputs": [],
   "source": []
  }
 ],
 "metadata": {
  "kernelspec": {
   "display_name": "Python 3",
   "language": "python",
   "name": "python3"
  },
  "language_info": {
   "codemirror_mode": {
    "name": "ipython",
    "version": 3
   },
   "file_extension": ".py",
   "mimetype": "text/x-python",
   "name": "python",
   "nbconvert_exporter": "python",
   "pygments_lexer": "ipython3",
   "version": "3.8.8"
  }
 },
 "nbformat": 4,
 "nbformat_minor": 5
}
